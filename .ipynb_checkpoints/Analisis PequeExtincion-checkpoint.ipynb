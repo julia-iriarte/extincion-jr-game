{
 "cells": [
  {
   "cell_type": "markdown",
   "id": "0eabad5a",
   "metadata": {},
   "source": [
    "## BoardGame Design - Exploratory Data Analysis\n",
    "\n",
    "In this notebook we are going to analyze a dataset from a boardgame.\n",
    "\n",
    "- Resumen juego de mesa\n",
    "\n",
    "- Qué significa cada variable\n",
    "- El Dataset está compuesto por 4 datasets que \n",
    "\n",
    "Preguntas:\n",
    "\n",
    "- ¿En qué proporción de ocasiones se obtiene un resultado de victoria?\n",
    "- ¿El número de comodines afecta al resultado?\n",
    "- ¿Qué número de comodines podría resultar más adecuado para este"
   ]
  },
  {
   "cell_type": "code",
   "execution_count": 1,
   "id": "1022731b",
   "metadata": {},
   "outputs": [
    {
     "data": {
      "text/html": [
       "<div>\n",
       "<style scoped>\n",
       "    .dataframe tbody tr th:only-of-type {\n",
       "        vertical-align: middle;\n",
       "    }\n",
       "\n",
       "    .dataframe tbody tr th {\n",
       "        vertical-align: top;\n",
       "    }\n",
       "\n",
       "    .dataframe thead th {\n",
       "        text-align: right;\n",
       "    }\n",
       "</style>\n",
       "<table border=\"1\" class=\"dataframe\">\n",
       "  <thead>\n",
       "    <tr style=\"text-align: right;\">\n",
       "      <th></th>\n",
       "      <th>n_comodinos</th>\n",
       "      <th>dinos_rescatados</th>\n",
       "      <th>victoria</th>\n",
       "      <th>n_turnos</th>\n",
       "    </tr>\n",
       "  </thead>\n",
       "  <tbody>\n",
       "    <tr>\n",
       "      <th>45727</th>\n",
       "      <td>4</td>\n",
       "      <td>10</td>\n",
       "      <td>True</td>\n",
       "      <td>35</td>\n",
       "    </tr>\n",
       "    <tr>\n",
       "      <th>8053</th>\n",
       "      <td>0</td>\n",
       "      <td>9</td>\n",
       "      <td>False</td>\n",
       "      <td>33</td>\n",
       "    </tr>\n",
       "    <tr>\n",
       "      <th>11334</th>\n",
       "      <td>1</td>\n",
       "      <td>7</td>\n",
       "      <td>False</td>\n",
       "      <td>33</td>\n",
       "    </tr>\n",
       "    <tr>\n",
       "      <th>21465</th>\n",
       "      <td>2</td>\n",
       "      <td>10</td>\n",
       "      <td>True</td>\n",
       "      <td>33</td>\n",
       "    </tr>\n",
       "    <tr>\n",
       "      <th>40799</th>\n",
       "      <td>4</td>\n",
       "      <td>10</td>\n",
       "      <td>True</td>\n",
       "      <td>32</td>\n",
       "    </tr>\n",
       "    <tr>\n",
       "      <th>23638</th>\n",
       "      <td>2</td>\n",
       "      <td>10</td>\n",
       "      <td>True</td>\n",
       "      <td>33</td>\n",
       "    </tr>\n",
       "    <tr>\n",
       "      <th>23944</th>\n",
       "      <td>2</td>\n",
       "      <td>9</td>\n",
       "      <td>False</td>\n",
       "      <td>35</td>\n",
       "    </tr>\n",
       "    <tr>\n",
       "      <th>9855</th>\n",
       "      <td>0</td>\n",
       "      <td>8</td>\n",
       "      <td>False</td>\n",
       "      <td>31</td>\n",
       "    </tr>\n",
       "    <tr>\n",
       "      <th>46057</th>\n",
       "      <td>4</td>\n",
       "      <td>10</td>\n",
       "      <td>True</td>\n",
       "      <td>34</td>\n",
       "    </tr>\n",
       "    <tr>\n",
       "      <th>20985</th>\n",
       "      <td>2</td>\n",
       "      <td>9</td>\n",
       "      <td>False</td>\n",
       "      <td>35</td>\n",
       "    </tr>\n",
       "  </tbody>\n",
       "</table>\n",
       "</div>"
      ],
      "text/plain": [
       "       n_comodinos  dinos_rescatados  victoria  n_turnos\n",
       "45727            4                10      True        35\n",
       "8053             0                 9     False        33\n",
       "11334            1                 7     False        33\n",
       "21465            2                10      True        33\n",
       "40799            4                10      True        32\n",
       "23638            2                10      True        33\n",
       "23944            2                 9     False        35\n",
       "9855             0                 8     False        31\n",
       "46057            4                10      True        34\n",
       "20985            2                 9     False        35"
      ]
     },
     "execution_count": 1,
     "metadata": {},
     "output_type": "execute_result"
    }
   ],
   "source": [
    "import pandas as pd\n",
    "import numpy as np\n",
    "import matplotlib.pyplot as plt\n",
    "%matplotlib inline\n",
    "\n",
    "df = pd.read_csv('datos_extincion.csv')\n",
    "df.sample(10)"
   ]
  },
  {
   "cell_type": "code",
   "execution_count": 2,
   "id": "df8cf2d7",
   "metadata": {
    "scrolled": false
   },
   "outputs": [
    {
     "data": {
      "text/plain": [
       "n_comodinos         int64\n",
       "dinos_rescatados    int64\n",
       "victoria             bool\n",
       "n_turnos            int64\n",
       "dtype: object"
      ]
     },
     "execution_count": 2,
     "metadata": {},
     "output_type": "execute_result"
    }
   ],
   "source": [
    "df.dtypes"
   ]
  },
  {
   "cell_type": "code",
   "execution_count": 3,
   "id": "9f234055",
   "metadata": {},
   "outputs": [
    {
     "data": {
      "text/plain": [
       "0.1419"
      ]
     },
     "execution_count": 3,
     "metadata": {},
     "output_type": "execute_result"
    }
   ],
   "source": [
    "prop_victoria_0c = len(df.query('victoria == True & n_comodinos == 0')) / 10000\n",
    "prop_victoria_0c"
   ]
  },
  {
   "cell_type": "code",
   "execution_count": 4,
   "id": "18a85ea1",
   "metadata": {},
   "outputs": [
    {
     "data": {
      "text/plain": [
       "0.3704"
      ]
     },
     "execution_count": 4,
     "metadata": {},
     "output_type": "execute_result"
    }
   ],
   "source": [
    "prop_victoria_1c = len(df.query('victoria == True & n_comodinos == 1')) / 10000\n",
    "prop_victoria_1c"
   ]
  },
  {
   "cell_type": "code",
   "execution_count": 5,
   "id": "b345050b",
   "metadata": {},
   "outputs": [
    {
     "data": {
      "text/plain": [
       "0.583"
      ]
     },
     "execution_count": 5,
     "metadata": {},
     "output_type": "execute_result"
    }
   ],
   "source": [
    "prop_victoria_2c = len(df.query('victoria == True & n_comodinos == 2')) / 10000\n",
    "prop_victoria_2c"
   ]
  },
  {
   "cell_type": "code",
   "execution_count": 6,
   "id": "aa10872c",
   "metadata": {},
   "outputs": [
    {
     "data": {
      "text/plain": [
       "0.7335"
      ]
     },
     "execution_count": 6,
     "metadata": {},
     "output_type": "execute_result"
    }
   ],
   "source": [
    "prop_victoria_3c = len(df.query('victoria == True & n_comodinos == 3')) / 10000\n",
    "prop_victoria_3c"
   ]
  },
  {
   "cell_type": "code",
   "execution_count": 7,
   "id": "243e7c9b",
   "metadata": {},
   "outputs": [
    {
     "data": {
      "text/plain": [
       "0.8255"
      ]
     },
     "execution_count": 7,
     "metadata": {},
     "output_type": "execute_result"
    }
   ],
   "source": [
    "prop_victoria_4c = len(df.query('victoria == True & n_comodinos == 4')) / 10000\n",
    "prop_victoria_4c"
   ]
  },
  {
   "cell_type": "code",
   "execution_count": 8,
   "id": "fecb8d3b",
   "metadata": {},
   "outputs": [
    {
     "data": {
      "image/png": "[encoded data removed]",
      "text/plain": [
       "<Figure size 640x480 with 1 Axes>"
      ]
     },
     "metadata": {},
     "output_type": "display_data"
    }
   ],
   "source": [
    "plt.bar([\"0 comodinos\", \"1 comodino\", \"2 comodinos\", \"3 comodinos\", \"4 comodinos\"], \n",
    "        [prop_victoria_0c, prop_victoria_1c, prop_victoria_2c, prop_victoria_3c, prop_victoria_4c])\n",
    "plt.title(\"Ratio of wins by number of wildcard tokens\")\n",
    "plt.xlabel(\"Number of Comodinos\")\n",
    "plt.ylabel(\"Ratio of wins\");"
   ]
  },
  {
   "cell_type": "code",
   "execution_count": 9,
   "id": "f9b3ed74",
   "metadata": {},
   "outputs": [
    {
     "data": {
      "text/plain": [
       "7.3968"
      ]
     },
     "execution_count": 9,
     "metadata": {},
     "output_type": "execute_result"
    }
   ],
   "source": [
    "med_dinorescates_0c = df.query('n_comodinos == 0')['dinos_rescatados'].mean()\n",
    "med_dinorescates_0c"
   ]
  },
  {
   "cell_type": "code",
   "execution_count": 10,
   "id": "f4cd2a63",
   "metadata": {},
   "outputs": [
    {
     "data": {
      "text/plain": [
       "8.4165"
      ]
     },
     "execution_count": 10,
     "metadata": {},
     "output_type": "execute_result"
    }
   ],
   "source": [
    "med_dinorescates_1c = df.query('n_comodinos == 1')['dinos_rescatados'].mean()\n",
    "med_dinorescates_1c"
   ]
  },
  {
   "cell_type": "code",
   "execution_count": 11,
   "id": "245b6fa1",
   "metadata": {},
   "outputs": [
    {
     "data": {
      "text/plain": [
       "9.0686"
      ]
     },
     "execution_count": 11,
     "metadata": {},
     "output_type": "execute_result"
    }
   ],
   "source": [
    "med_dinorescates_2c = df.query('n_comodinos == 2')['dinos_rescatados'].mean()\n",
    "med_dinorescates_2c"
   ]
  },
  {
   "cell_type": "code",
   "execution_count": 12,
   "id": "bc0d1848",
   "metadata": {},
   "outputs": [
    {
     "data": {
      "text/plain": [
       "9.4691"
      ]
     },
     "execution_count": 12,
     "metadata": {},
     "output_type": "execute_result"
    }
   ],
   "source": [
    "med_dinorescates_3c = df.query('n_comodinos == 3')['dinos_rescatados'].mean()\n",
    "med_dinorescates_3c"
   ]
  },
  {
   "cell_type": "code",
   "execution_count": 13,
   "id": "932116de",
   "metadata": {},
   "outputs": [
    {
     "data": {
      "text/plain": [
       "9.674"
      ]
     },
     "execution_count": 13,
     "metadata": {},
     "output_type": "execute_result"
    }
   ],
   "source": [
    "med_dinorescates_4c = df.query('n_comodinos == 4')['dinos_rescatados'].mean()\n",
    "med_dinorescates_4c"
   ]
  },
  {
   "cell_type": "code",
   "execution_count": 14,
   "id": "0dff6974",
   "metadata": {
    "scrolled": true
   },
   "outputs": [
    {
     "data": {
      "image/png": "[encoded data removed]",
      "text/plain": [
       "<Figure size 640x480 with 1 Axes>"
      ]
     },
     "metadata": {},
     "output_type": "display_data"
    }
   ],
   "source": [
    "plt.bar([\"0 comodinos\", \"1 comodino\", \"2 comodinos\", \"3 comodinos\", \"4 comodinos\"], \n",
    "        [med_dinorescates_0c, med_dinorescates_1c, med_dinorescates_2c, med_dinorescates_3c, med_dinorescates_4c])\n",
    "plt.title(\"Dinosaurs rescued by number of wildcard tokens\")\n",
    "plt.xlabel(\"Number of Comodinos\")\n",
    "plt.ylabel(\"Average of Dinosaurs rescued\");"
   ]
  },
  {
   "cell_type": "code",
   "execution_count": 15,
   "id": "3fcd5c87",
   "metadata": {},
   "outputs": [
    {
     "data": {
      "text/plain": [
       "29.7803"
      ]
     },
     "execution_count": 15,
     "metadata": {},
     "output_type": "execute_result"
    }
   ],
   "source": [
    "med_turnos_0c = df.query('n_comodinos == 0')['n_turnos'].mean()\n",
    "med_turnos_0c"
   ]
  },
  {
   "cell_type": "code",
   "execution_count": 16,
   "id": "fc3565ef",
   "metadata": {},
   "outputs": [
    {
     "data": {
      "text/plain": [
       "31.6844"
      ]
     },
     "execution_count": 16,
     "metadata": {},
     "output_type": "execute_result"
    }
   ],
   "source": [
    "med_turnos_1c = df.query('n_comodinos == 1')['n_turnos'].mean()\n",
    "med_turnos_1c"
   ]
  },
  {
   "cell_type": "code",
   "execution_count": 17,
   "id": "f289f785",
   "metadata": {},
   "outputs": [
    {
     "data": {
      "text/plain": [
       "32.5071"
      ]
     },
     "execution_count": 17,
     "metadata": {},
     "output_type": "execute_result"
    }
   ],
   "source": [
    "med_turnos_2c = df.query('n_comodinos == 2')['n_turnos'].mean()\n",
    "med_turnos_2c"
   ]
  },
  {
   "cell_type": "code",
   "execution_count": 18,
   "id": "7b9d02f9",
   "metadata": {},
   "outputs": [
    {
     "data": {
      "text/plain": [
       "32.7482"
      ]
     },
     "execution_count": 18,
     "metadata": {},
     "output_type": "execute_result"
    }
   ],
   "source": [
    "med_turnos_3c = df.query('n_comodinos == 3')['n_turnos'].mean()\n",
    "med_turnos_3c"
   ]
  },
  {
   "cell_type": "code",
   "execution_count": 19,
   "id": "8751c7d9",
   "metadata": {},
   "outputs": [
    {
     "data": {
      "text/plain": [
       "32.7204"
      ]
     },
     "execution_count": 19,
     "metadata": {},
     "output_type": "execute_result"
    }
   ],
   "source": [
    "med_turnos_4c = df.query('n_comodinos == 4')['n_turnos'].mean()\n",
    "med_turnos_4c"
   ]
  },
  {
   "cell_type": "code",
   "execution_count": 20,
   "id": "d3a00f17",
   "metadata": {},
   "outputs": [
    {
     "data": {
      "image/png": "[encoded data removed]",
      "text/plain": [
       "<Figure size 640x480 with 1 Axes>"
      ]
     },
     "metadata": {},
     "output_type": "display_data"
    }
   ],
   "source": [
    "plt.bar([\"0 comodinos\", \"1 comodino\", \"2 comodinos\", \"3 comodinos\", \"4 comodinos\"], \n",
    "        [med_turnos_0c, med_turnos_1c, med_turnos_2c, med_turnos_3c, med_turnos_4c])\n",
    "plt.title(\"Number of turns played by number of wildcard tokens\")\n",
    "plt.xlabel(\"Number of Comodinos\")\n",
    "plt.ylabel(\"Average of Turns played\");"
   ]
  },
  {
   "cell_type": "code",
   "execution_count": null,
   "id": "cea66466",
   "metadata": {},
   "outputs": [],
   "source": []
  }
 ],
 "metadata": {
  "kernelspec": {
   "display_name": "Python 3 (ipykernel)",
   "language": "python",
   "name": "python3"
  },
  "language_info": {
   "codemirror_mode": {
    "name": "ipython",
    "version": 3
   },
   "file_extension": ".py",
   "mimetype": "text/x-python",
   "name": "python",
   "nbconvert_exporter": "python",
   "pygments_lexer": "ipython3",
   "version": "3.9.15"
  }
 },
 "nbformat": 4,
 "nbformat_minor": 5
}
